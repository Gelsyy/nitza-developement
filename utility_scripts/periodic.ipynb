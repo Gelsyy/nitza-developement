{
 "cells": [
  {
   "cell_type": "code",
   "execution_count": 15,
   "metadata": {},
   "outputs": [
    {
     "name": "stdout",
     "output_type": "stream",
     "text": [
      "The date of the fourth Monday in January 2023 is: 23/1/2023\n"
     ]
    }
   ],
   "source": [
    "import calendar\n",
    "\n",
    "def get_fourth_monday(year, month):\n",
    "    # Get the calendar for the given month\n",
    "    cal = calendar.monthcalendar(year, month)\n",
    "\n",
    "    # Find the first week\n",
    "    first_week = cal[0]\n",
    "\n",
    "    # Find the week that contains the fourth Monday\n",
    "    fourth_week = cal[3]\n",
    "\n",
    "    # Find the index of Monday (0 = Monday, 1 = Tuesday, ..., 6 = Sunday)\n",
    "    monday_index = calendar.MONDAY\n",
    "\n",
    "    # Check if the first and the fourth weeks contain Monday\n",
    "    if fourth_week[monday_index] != 0 and first_week[monday_index] != 0:\n",
    "        return fourth_week[monday_index]\n",
    "    else:\n",
    "        # If the first and the fourth weeks don't contain Monday, it must be in the fifth week\n",
    "        fifth_week = cal[4]\n",
    "        return fifth_week[monday_index]\n",
    "\n",
    "# Example usage\n",
    "year = 2023\n",
    "month = 1\n",
    "fourth_monday = get_fourth_monday(year, month)\n",
    "print(f\"The date of the fourth Monday in {calendar.month_name[month]} {year} is: {fourth_monday}/{month}/{year}\")\n"
   ]
  },
  {
   "cell_type": "code",
   "execution_count": 20,
   "metadata": {},
   "outputs": [
    {
     "name": "stdout",
     "output_type": "stream",
     "text": [
      "The date of the fourth Monday in April 2024 is: 22/4/2024\n"
     ]
    }
   ],
   "source": [
    "# Example usage\n",
    "year = 2024\n",
    "month = 4\n",
    "fourth_monday = get_fourth_monday(year, month)\n",
    "print(f\"The date of the fourth Monday in {calendar.month_name[month]} {year} is: {fourth_monday}/{month}/{year}\")"
   ]
  }
 ],
 "metadata": {
  "kernelspec": {
   "display_name": "gestor",
   "language": "python",
   "name": "python3"
  },
  "language_info": {
   "codemirror_mode": {
    "name": "ipython",
    "version": 3
   },
   "file_extension": ".py",
   "mimetype": "text/x-python",
   "name": "python",
   "nbconvert_exporter": "python",
   "pygments_lexer": "ipython3",
   "version": "3.8.10"
  },
  "orig_nbformat": 4
 },
 "nbformat": 4,
 "nbformat_minor": 2
}
