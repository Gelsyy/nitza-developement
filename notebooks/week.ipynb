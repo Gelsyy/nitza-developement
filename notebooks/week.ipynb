{
 "cells": [
  {
   "cell_type": "code",
   "execution_count": null,
   "metadata": {},
   "outputs": [],
   "source": [
    "from datetime import datetime, timedelta\n",
    "\n",
    "day = '12/Oct/2013'\n",
    "dt = datetime.strptime(day, '%d/%b/%Y')\n",
    "start = dt - timedelta(days=dt.weekday())\n",
    "end = start + timedelta(days=6)\n",
    "\n",
    "print(start)\n",
    "print(end)"
   ]
  }
 ],
 "metadata": {
  "language_info": {
   "name": "python"
  },
  "orig_nbformat": 4
 },
 "nbformat": 4,
 "nbformat_minor": 2
}
