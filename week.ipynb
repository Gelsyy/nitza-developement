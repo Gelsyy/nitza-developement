{
 "cells": [
  {
   "cell_type": "markdown",
   "metadata": {},
   "source": [
    "## Compute the time intervals fow a given week"
   ]
  },
  {
   "cell_type": "code",
   "execution_count": 2,
   "metadata": {},
   "outputs": [],
   "source": [
    "from datetime import datetime, timedelta\n"
   ]
  },
  {
   "cell_type": "markdown",
   "metadata": {},
   "source": [
    "Computing the monday of the current and the next week $E=mc^2$"
   ]
  },
  {
   "cell_type": "code",
   "execution_count": 3,
   "metadata": {},
   "outputs": [
    {
     "name": "stdout",
     "output_type": "stream",
     "text": [
      "2023-03-06\n",
      "2023-03-13\n"
     ]
    }
   ],
   "source": [
    "dt = datetime.now()\n",
    "\n",
    "start = dt - timedelta(days=dt.weekday())\n",
    "end = start + timedelta(days=7)\n",
    "\n",
    "print(start.date())\n",
    "print(end.date())"
   ]
  },
  {
   "cell_type": "markdown",
   "metadata": {},
   "source": [
    "This is the interval for database query. \n",
    "Now lets create a fucntion returning also teh previous and next weeks' boundaries"
   ]
  },
  {
   "cell_type": "code",
   "execution_count": 4,
   "metadata": {},
   "outputs": [],
   "source": [
    "def getWeek(dt=None):\n",
    "    if dt is None:\n",
    "        dt = datetime.now()\n",
    "    start = dt - timedelta(days=dt.weekday())\n",
    "    end = start + timedelta(days=7)\n",
    "    previousWeek = dt - timedelta(days=7)\n",
    "    nextWeek = dt + timedelta(days=7)\n",
    "    return (start.date(), end.date(), previousWeek, nextWeek)"
   ]
  },
  {
   "cell_type": "markdown",
   "metadata": {},
   "source": [
    "Test the function with no argument"
   ]
  },
  {
   "cell_type": "code",
   "execution_count": 5,
   "metadata": {},
   "outputs": [
    {
     "name": "stdout",
     "output_type": "stream",
     "text": [
      "(datetime.date(2023, 3, 6), datetime.date(2023, 3, 13), datetime.datetime(2023, 3, 2, 12, 49, 9, 257877), datetime.datetime(2023, 3, 16, 12, 49, 9, 257877))\n"
     ]
    }
   ],
   "source": [
    "print (getWeek())"
   ]
  },
  {
   "cell_type": "markdown",
   "metadata": {},
   "source": [
    "Test for a given date"
   ]
  },
  {
   "cell_type": "code",
   "execution_count": 6,
   "metadata": {},
   "outputs": [
    {
     "name": "stdout",
     "output_type": "stream",
     "text": [
      "(datetime.date(2023, 2, 13), datetime.date(2023, 2, 20), datetime.datetime(2023, 2, 9, 0, 0), datetime.datetime(2023, 2, 23, 0, 0))\n"
     ]
    }
   ],
   "source": [
    "print (getWeek(datetime(2023, 2, 16)))"
   ]
  },
  {
   "cell_type": "code",
   "execution_count": 7,
   "metadata": {},
   "outputs": [
    {
     "name": "stdout",
     "output_type": "stream",
     "text": [
      "(datetime.date(2023, 2, 27), datetime.date(2023, 3, 6), datetime.datetime(2023, 2, 23, 12, 49, 14, 681440), datetime.datetime(2023, 3, 9, 12, 49, 14, 681440))\n"
     ]
    }
   ],
   "source": [
    "print (getWeek(getWeek()[2]))"
   ]
  },
  {
   "cell_type": "code",
   "execution_count": 11,
   "metadata": {},
   "outputs": [
    {
     "data": {
      "text/plain": [
       "'03062023'"
      ]
     },
     "execution_count": 11,
     "metadata": {},
     "output_type": "execute_result"
    }
   ],
   "source": [
    "(start, end, previousWeek, nextWeek) = getWeek()\n",
    "start.strftime(\"%m%d%Y\")"
   ]
  },
  {
   "cell_type": "code",
   "execution_count": 13,
   "metadata": {},
   "outputs": [
    {
     "data": {
      "text/plain": [
       "datetime.datetime(2023, 3, 6, 0, 0)"
      ]
     },
     "execution_count": 13,
     "metadata": {},
     "output_type": "execute_result"
    }
   ],
   "source": [
    "datetime.strptime('03062023', \"%m%d%Y\")"
   ]
  },
  {
   "cell_type": "code",
   "execution_count": null,
   "metadata": {},
   "outputs": [],
   "source": []
  }
 ],
 "metadata": {
  "kernelspec": {
   "display_name": "Python 3 (ipykernel)",
   "language": "python",
   "name": "python3"
  },
  "language_info": {
   "codemirror_mode": {
    "name": "ipython",
    "version": 3
   },
   "file_extension": ".py",
   "mimetype": "text/x-python",
   "name": "python",
   "nbconvert_exporter": "python",
   "pygments_lexer": "ipython3",
   "version": "3.8.10"
  }
 },
 "nbformat": 4,
 "nbformat_minor": 2
}
