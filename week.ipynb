{
 "cells": [
  {
   "cell_type": "markdown",
   "metadata": {},
   "source": [
    "## Compute the time intervals fow a given week"
   ]
  },
  {
   "cell_type": "code",
   "execution_count": 7,
   "metadata": {},
   "outputs": [],
   "source": [
    "from datetime import datetime, timedelta\n"
   ]
  },
  {
   "cell_type": "markdown",
   "metadata": {},
   "source": [
    "Computing the monday of the current and the next week $E=mc^2$"
   ]
  },
  {
   "cell_type": "code",
   "execution_count": 8,
   "metadata": {},
   "outputs": [
    {
     "name": "stdout",
     "output_type": "stream",
     "text": [
      "2023-02-20\n",
      "2023-02-27\n"
     ]
    }
   ],
   "source": [
    "dt = datetime.now()\n",
    "\n",
    "start = dt - timedelta(days=dt.weekday())\n",
    "end = start + timedelta(days=7)\n",
    "\n",
    "print(start.date())\n",
    "print(end.date())"
   ]
  },
  {
   "cell_type": "markdown",
   "metadata": {},
   "source": [
    "This is the interval for database query. \n",
    "Now lets create a fucntion returning also teh previous and next weeks' boundaries"
   ]
  },
  {
   "cell_type": "code",
   "execution_count": 27,
   "metadata": {},
   "outputs": [],
   "source": [
    "def getWeek(dt=None):\n",
    "    if dt is None:\n",
    "        dt = datetime.now()\n",
    "    start = dt - timedelta(days=dt.weekday())\n",
    "    end = start + timedelta(days=7)\n",
    "    previousWeek = dt - timedelta(days=7)\n",
    "    nextWeek = dt + timedelta(days=7)\n",
    "    return (start.date(), end.date(), previousWeek, nextWeek)"
   ]
  },
  {
   "cell_type": "markdown",
   "metadata": {},
   "source": [
    "Test the function with no argument"
   ]
  },
  {
   "cell_type": "code",
   "execution_count": 28,
   "metadata": {},
   "outputs": [
    {
     "name": "stdout",
     "output_type": "stream",
     "text": [
      "(datetime.date(2023, 2, 20), datetime.date(2023, 2, 27), datetime.datetime(2023, 2, 16, 20, 15, 27, 627103), datetime.datetime(2023, 3, 2, 20, 15, 27, 627103))\n"
     ]
    }
   ],
   "source": [
    "print (getWeek())"
   ]
  },
  {
   "cell_type": "markdown",
   "metadata": {},
   "source": [
    "Test for a given date"
   ]
  },
  {
   "cell_type": "code",
   "execution_count": 29,
   "metadata": {},
   "outputs": [
    {
     "name": "stdout",
     "output_type": "stream",
     "text": [
      "(datetime.date(2023, 2, 13), datetime.date(2023, 2, 20), datetime.datetime(2023, 2, 9, 0, 0), datetime.datetime(2023, 2, 23, 0, 0))\n"
     ]
    }
   ],
   "source": [
    "print (getWeek(datetime(2023, 2, 16)))"
   ]
  },
  {
   "cell_type": "code",
   "execution_count": 30,
   "metadata": {},
   "outputs": [
    {
     "name": "stdout",
     "output_type": "stream",
     "text": [
      "(datetime.date(2023, 2, 13), datetime.date(2023, 2, 20), datetime.datetime(2023, 2, 9, 20, 15, 42, 100051), datetime.datetime(2023, 2, 23, 20, 15, 42, 100051))\n"
     ]
    }
   ],
   "source": [
    "print (getWeek(getWeek()[2]))"
   ]
  },
  {
   "cell_type": "code",
   "execution_count": null,
   "metadata": {},
   "outputs": [],
   "source": []
  }
 ],
 "metadata": {
  "kernelspec": {
   "display_name": "Python 3 (ipykernel)",
   "language": "python",
   "name": "python3"
  },
  "language_info": {
   "codemirror_mode": {
    "name": "ipython",
    "version": 3
   },
   "file_extension": ".py",
   "mimetype": "text/x-python",
   "name": "python",
   "nbconvert_exporter": "python",
   "pygments_lexer": "ipython3",
   "version": "3.8.10"
  }
 },
 "nbformat": 4,
 "nbformat_minor": 2
}
